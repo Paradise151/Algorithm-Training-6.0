{
  "nbformat": 4,
  "nbformat_minor": 0,
  "metadata": {
    "colab": {
      "provenance": [],
      "authorship_tag": "ABX9TyMXGzrxqJxlW04xuVIXMjZ6",
      "include_colab_link": true
    },
    "kernelspec": {
      "name": "python3",
      "display_name": "Python 3"
    },
    "language_info": {
      "name": "python"
    }
  },
  "cells": [
    {
      "cell_type": "markdown",
      "metadata": {
        "id": "view-in-github",
        "colab_type": "text"
      },
      "source": [
        "<a href=\"https://colab.research.google.com/github/Paradise151/Algorithm-Training-6.0/blob/main/%D0%A2%D1%80%D0%B5%D0%BD%D0%B8%D1%80%D0%BE%D0%B2%D0%BA%D0%B0_%D0%BF%D0%BE_%D0%B0%D0%BB%D0%B3%D0%BE%D1%80%D0%B8%D1%82%D0%BC%D0%B0%D0%BC_6_0.ipynb\" target=\"_parent\"><img src=\"https://colab.research.google.com/assets/colab-badge.svg\" alt=\"Open In Colab\"/></a>"
      ]
    },
    {
      "cell_type": "markdown",
      "source": [
        "# Домашка №1"
      ],
      "metadata": {
        "id": "C_ZPRiwiXUM6"
      }
    },
    {
      "cell_type": "code",
      "source": [],
      "metadata": {
        "id": "MWq7uD8ahvKS"
      },
      "execution_count": null,
      "outputs": []
    },
    {
      "cell_type": "markdown",
      "source": [
        "#A. Плот"
      ],
      "metadata": {
        "id": "sKkUjQ47XVUd"
      }
    },
    {
      "cell_type": "code",
      "execution_count": null,
      "metadata": {
        "colab": {
          "base_uri": "https://localhost:8080/"
        },
        "id": "t5mw9AADT9eJ",
        "outputId": "53e5dc87-4671-4766-b79d-c200ded86a4e"
      },
      "outputs": [
        {
          "output_type": "stream",
          "name": "stdout",
          "text": [
            "-2\n",
            "-2\n",
            "5\n",
            "3\n",
            "6\n",
            "-3\n",
            "SE\n"
          ]
        }
      ],
      "source": [
        "x1 = int(input())\n",
        "y1 = int(input())\n",
        "x2 = int(input())\n",
        "y2 = int(input())\n",
        "x = int(input())\n",
        "y = int(input())\n",
        "\n",
        "if (x < x1) and (y > y2):\n",
        "    print(\"NW\")\n",
        "elif (x > x2) and (y > y2):\n",
        "    print(\"NE\")\n",
        "elif (x < x1) and (y < y1):\n",
        "    print(\"SW\")\n",
        "elif (x > x2) and (y < y1):\n",
        "    print(\"SE\")\n",
        "elif (x < x1) and (y1 < y < y2):\n",
        "    print(\"W\")\n",
        "elif (x > x2) and (y1 < y < y2):\n",
        "    print(\"E\")\n",
        "elif (x1 < x < x2) and (y > y2):\n",
        "    print(\"N\")\n",
        "elif (x1 < x < x2) and (y < y1):\n",
        "    print(\"S\")"
      ]
    },
    {
      "cell_type": "code",
      "source": [
        "-2\n",
        "-2\n",
        "5\n",
        "3"
      ],
      "metadata": {
        "id": "mQUVdxgFZxTv"
      },
      "execution_count": null,
      "outputs": []
    },
    {
      "cell_type": "markdown",
      "source": [
        "Вопрос про вложенные if, да в некотором смысле становится аккуратней, то 1) не плоха ли вложенность, 2) да имеются ограничения на вводимые параметры, но запись полных ограничений будет наглядно показывать границы нужных областей,а else нифига понятно не будет, особенно в следующий раз прочтения кода, 3) или если в проверке ошибка, то введеная некорректно запись может пройти через ленивое условие и сделать алгоритм некорректным, например, y = y2"
      ],
      "metadata": {
        "id": "Ck1Q8AMDYwl5"
      }
    },
    {
      "cell_type": "code",
      "source": [
        "x1 = int(input())\n",
        "y1 = int(input())\n",
        "x2 = int(input())\n",
        "y2 = int(input())\n",
        "x = int(input())\n",
        "y = int(input())\n",
        "\n",
        "if x < x1:\n",
        "    if y > y2:\n",
        "        print(\"NW\")\n",
        "    elif y < y1:\n",
        "        print(\"SW\")\n",
        "    else:\n",
        "        print(\"W\")\n",
        "elif x > x2:\n",
        "    if y > y2:\n",
        "        print(\"NE\")\n",
        "    elif y < y1:\n",
        "        print(\"SE\")\n",
        "    else:\n",
        "        print(\"E\")\n",
        "elif (x1 < x < x2) and (y > y2):\n",
        "    print(\"N\")\n",
        "elif (x1 < x < x2) and (y < y1):\n",
        "    print(\"S\")"
      ],
      "metadata": {
        "id": "6O3RQwXIW2A9"
      },
      "execution_count": null,
      "outputs": []
    },
    {
      "cell_type": "markdown",
      "source": [
        "#B.Майки и носки"
      ],
      "metadata": {
        "id": "2JuBs2vhYGVG"
      }
    },
    {
      "cell_type": "code",
      "source": [
        "A = int(input())\n",
        "B = int(input())\n",
        "C = int(input())\n",
        "D = int(input())\n",
        "\n",
        "max1 = max(A,B)\n",
        "max2 = max(C,D)\n",
        "min1 = min(A,B)\n",
        "min2 = min(C,D)\n",
        "\n",
        "if (A * B == 0) and (C * D == 0):\n",
        "    print(1, 1, end=\" \")\n",
        "elif (A * B == 0) and (C * D != 0):\n",
        "    if A == 0:\n",
        "        print(1, C + 1, end=\" \")\n",
        "    else:\n",
        "        print(1, D + 1, end=\" \")\n",
        "elif (A * B != 0) and (C * D == 0):\n",
        "    if C == 0:\n",
        "        print(A + 1, 1, end=\"\")\n",
        "    else:\n",
        "        print(B + 1, 1, end=\" \")\n",
        "elif (\n",
        "    ((A >= B)\n",
        "    and (C >= D))\n",
        "    or ((A <= B)\n",
        "    and (C <= D))\n",
        "):\n",
        "    if min1 + 1 + min2 + 1 <= min(max1, max2) + 1 + 1:\n",
        "        print(min1 + 1, min2 + 1, end=\" \")\n",
        "    else:\n",
        "        if max1 <= max2:\n",
        "            print(max1 + 1, 1, end=\" \")\n",
        "        else:\n",
        "            print(1, max2 + 1, end=\" \")\n",
        "else:\n",
        "    if max1 <= max2:\n",
        "        print(max1 + 1, 1, end=\" \")\n",
        "    else:\n",
        "        print(1, max2 + 1, end=\" \")"
      ],
      "metadata": {
        "colab": {
          "base_uri": "https://localhost:8080/"
        },
        "id": "TiiDw5V9g2do",
        "outputId": "0c2dc8ba-dfed-4bb5-e553-7242b1c5a159"
      },
      "execution_count": null,
      "outputs": [
        {
          "output_type": "stream",
          "name": "stdout",
          "text": [
            "5\n",
            "6\n",
            "7\n",
            "0\n",
            "7 1 "
          ]
        }
      ]
    },
    {
      "cell_type": "markdown",
      "source": [
        "#E. Наибольшее произведение двух чисел (составление тестов)"
      ],
      "metadata": {
        "id": "Kvjv8ZSnZNin"
      }
    },
    {
      "cell_type": "markdown",
      "source": [
        "Прога по определению максимального произведения двух чисел"
      ],
      "metadata": {
        "id": "XMajmjMZZk6l"
      }
    },
    {
      "cell_type": "code",
      "source": [
        "numbers = input()\n",
        "array = list(map(int, numbers.split()))\n",
        "index1_max = 0\n",
        "index1_min = 0\n",
        "\n",
        "for i in range(len(array)):\n",
        "    if array[i] > array[index1_max]:\n",
        "       index1_max = i\n",
        "    if array[i] < array[index1_min]:\n",
        "       index1_min = i\n",
        "\n",
        "if index1_max == 0:\n",
        "    index2_max = 1\n",
        "else:\n",
        "    index2_max = 0\n",
        "\n",
        "if index1_min == 0:\n",
        "    index2_min = 1\n",
        "else:\n",
        "    index2_min = 0\n",
        "\n",
        "for i in range(len(array)):\n",
        "    if (array[i] > array[index2_max]) and (i != index1_max):\n",
        "        index2_max = i\n",
        "    if (array[i] < array[index2_min]) and (i != index1_min):\n",
        "        index2_min = i\n",
        "\n",
        "\n",
        "if array[index1_max] * array[index2_max] > array[index1_min] * array[index2_min]:\n",
        "    print(f\"numbr1 = {min(array[index1_max], array[index2_max])}, numbr2 = {max(array[index1_max], array[index2_max])}, product = {array[index1_max] * array[index2_max]}\")\n",
        "else:\n",
        "    print(f\"numbr1 = {min(array[index1_min], array[index2_min])}, numbr2 = {max(array[index1_min], array[index2_min])}, product = {array[index1_min] * array[index2_min]}\")\n"
      ],
      "metadata": {
        "id": "xNyWyOftM-IX",
        "colab": {
          "base_uri": "https://localhost:8080/"
        },
        "outputId": "04390a71-0920-43c3-d8e4-38833be5063d"
      },
      "execution_count": null,
      "outputs": [
        {
          "output_type": "stream",
          "name": "stdout",
          "text": [
            "1 -12 12 2 -15\n",
            "numbr1 = -15, numbr2 = -12, product = 180\n"
          ]
        }
      ]
    },
    {
      "cell_type": "markdown",
      "source": [
        "Тесты"
      ],
      "metadata": {
        "id": "QrIeXDWqZtoV"
      }
    },
    {
      "cell_type": "code",
      "source": [
        "# по нулям\n",
        "0 0\n",
        "# работате ли для двух чисел\n",
        "2 2\n",
        "# не учёл ли максимальное значение два раза\n",
        "1 5 2\n",
        "# не учёл ли минимальное отрицательное значение два раза\n",
        "1 -5 -2\n",
        "# проверка на вывод ответа в порядке неубывания\n",
        "2 2 4 5 2\n",
        "# проверка на максимум в начале\n",
        "3 2 1\n",
        "# проверка максимума в конце\n",
        "1 2 3\n",
        "# обычная проверка, добавили отрицательное число\n",
        "-2 1 4 50\n",
        "# запутался в выводе в порядке неубывания отрицательных чисел\n",
        "1 -2 -3 4\n",
        "# забыл, что произведение отрицательных чисел может быть максимально\n",
        "1 2 -9 -1\n",
        "# не учёл что максимальные числа могут совпадать\n",
        "0 1 3 3\n",
        "# не учёл что максимальные отрицательные числа могут совпадать\n",
        "0 -1 -3 -3\n",
        "# инициализирует максимум нулём - забывает об отрицательных\n",
        "-2 -1 -5\n",
        "# просто с одним нулём\n",
        "-5 0\n",
        "# проверяет максимальность беря модуль произведения, в надежде захватить произведение двух отрицательных, но забыв о больших отрицательных и большом положительном\n",
        "-99 20 30\n",
        "# минимальное отрицательное в начале, по аналогии с максимальным в начале\n",
        "-10 -1\n",
        "# минимальное отрицательное в конце\n",
        "1 -3 -10\n",
        "# максимальное произведение отрицательно\n",
        "1 -1"
      ],
      "metadata": {
        "id": "ixk24y941XNj"
      },
      "execution_count": null,
      "outputs": []
    },
    {
      "cell_type": "code",
      "source": [
        "def max_pairwise_product(numbers):\n",
        "    n = len(numbers)\n",
        "    max_product = 0\n",
        "    for first in range(n):\n",
        "        print(first)\n",
        "        for second in range(first + 1, n):\n",
        "            print(first, second)\n",
        "            max_product = max(max_product, numbers[first] * numbers[second])\n",
        "\n",
        "    return max_product\n"
      ],
      "metadata": {
        "id": "d3cZU91zWCTz"
      },
      "execution_count": null,
      "outputs": []
    },
    {
      "cell_type": "markdown",
      "source": [
        "#D. Кондиционер (составление тестов)"
      ],
      "metadata": {
        "id": "ienzjrKcZ7fg"
      }
    },
    {
      "cell_type": "markdown",
      "source": [
        "Прога задачу решающая"
      ],
      "metadata": {
        "id": "6dFXBS4XZ_oa"
      }
    },
    {
      "cell_type": "code",
      "source": [
        "mass = list(input().split())\n",
        "t_room_str = mass[0]\n",
        "t_cond_str = mass[1]\n",
        "t_room = float(t_room_str)\n",
        "t_cond = float(t_cond_str)\n",
        "mode = mass[2]\n",
        "\n",
        "if mode == \"freeze\":\n",
        "    if t_room <= t_cond:\n",
        "        print(t_room_str)\n",
        "    else:\n",
        "        print(t_cond_str)\n",
        "elif mode == \"heat\":\n",
        "    if t_room >= t_cond:\n",
        "        print(t_room_str)\n",
        "    else:\n",
        "        print(t_cond_str)\n",
        "elif mode == \"auto\":\n",
        "    if t_room == t_cond:\n",
        "       print(t_room_str)\n",
        "    else:\n",
        "       print(t_cond_str)\n",
        "else:\n",
        "    print(t_room_str)"
      ],
      "metadata": {
        "colab": {
          "base_uri": "https://localhost:8080/"
        },
        "id": "JfH01VZ0B6ML",
        "outputId": "e35dec58-eb70-4790-d258-21d3f06cbcba"
      },
      "execution_count": null,
      "outputs": [
        {
          "output_type": "stream",
          "name": "stdout",
          "text": [
            "-1.0 -1 heat\n",
            "-1.0\n"
          ]
        }
      ]
    },
    {
      "cell_type": "markdown",
      "source": [
        "Тесты"
      ],
      "metadata": {
        "id": "3fTA4NV7aFUY"
      }
    },
    {
      "cell_type": "code",
      "source": [
        "# случай не работающего нагрева\n",
        "33 20 heat\n",
        "# случай работающюго нагрева\n",
        "20 33 heat\n",
        "# случай работающего охлаждения\n",
        "23 1 freeze\n",
        "# случай неработающюго охлаждения\n",
        "1 23 freeze\n",
        "# случай просто работающей вентиляции\n",
        "45 48 fan\n",
        "# случай неработающюго охлаждения\n",
        "48 45 fan\n",
        "# случай работающего автоохлаждения\n",
        "-1 20 auto\n",
        "# случай работающюго автонагрева\n",
        "20 -1 auto\n",
        "# случай выключения нагрева и разных типов введенной температуры, но при этом равной\n",
        "-1.0 -1 heat\n",
        "# случай выключения нагрева и разных типов введенной температуры, но при этом равной\n",
        "-1.0 -1 freeze\n",
        "# случай выключения нагрева и разных типов введенной температуры, но при этом равной\n",
        "-1.0 -1 auto\n",
        "# случай выключения нагрева и разных типов введенной температуры, но при этом равной\n",
        "-1.0 -1 fan"
      ],
      "metadata": {
        "id": "4e_c97zQFCd4"
      },
      "execution_count": null,
      "outputs": []
    },
    {
      "cell_type": "markdown",
      "source": [
        "True answer"
      ],
      "metadata": {
        "id": "EiDfCcrvaJ9V"
      }
    },
    {
      "cell_type": "code",
      "source": [
        "12\n",
        "33 20 heat\n",
        "20 33 heat\n",
        "23 1 freeze\n",
        "1 23 freeze\n",
        "45 48 fan\n",
        "48 45 fan\n",
        "-1 20 auto\n",
        "20 -1 auto\n",
        "-1.0 -1 heat\n",
        "-1.0 -1 freeze\n",
        "-1.0 -1 auto\n",
        "-1.0 -1 fan"
      ],
      "metadata": {
        "id": "U3j-zbbyMI6i"
      },
      "execution_count": null,
      "outputs": []
    },
    {
      "cell_type": "markdown",
      "source": [
        "# Не понмю что"
      ],
      "metadata": {
        "id": "lcu8H1MbbDGw"
      }
    },
    {
      "cell_type": "code",
      "source": [
        "n = int(input())\n",
        "mass = []\n",
        "rectangle_numbers = 0\n",
        "x3, y3, x4, y4 = 0, 0, 0, 0\n",
        "mass.append(input())\n",
        "for i in range(n-1):\n",
        "    stroka = input()\n",
        "    mass.append(stroka)\n",
        "for i in range(n-1):\n",
        "  if (stroka == mass[i-1]) and (\"#\" in mass[i-1]):\n",
        "      usefull_date[0]\n",
        "print(mass)"
      ],
      "metadata": {
        "id": "YclZbaxvihDF"
      },
      "execution_count": null,
      "outputs": []
    },
    {
      "cell_type": "code",
      "source": [
        ". # . #"
      ],
      "metadata": {
        "id": "O_XFK5Ubj1fP"
      },
      "execution_count": null,
      "outputs": []
    },
    {
      "cell_type": "code",
      "source": [
        "n = int(input())\n",
        "mass = []\n",
        "rectangle_numbers = 0\n",
        "x3, y3, x4, y4 = 0, 0, 0, 0\n",
        "for i in range(n):\n",
        "    stroka = input()\n",
        "    mass.append(stroka)\n",
        "counter = 0\n",
        "kaka = []\n",
        "j = 0\n",
        "for i in range(j, n):\n",
        "  while mass[i-1] == mass[i] and i < n and \"#\" in mass[i]:\n",
        "     kaka.append(i-1)\n",
        "     i += 1\n",
        "     counter += 1\n",
        "  else:\n",
        "     j = i\n",
        "     if counter != 0:\n",
        "        kaka.append(i)\n",
        "print(kaka)"
      ],
      "metadata": {
        "colab": {
          "base_uri": "https://localhost:8080/"
        },
        "id": "3V285f3Hb1No",
        "outputId": "45885571-1cd9-4bf5-d3e3-772c4da750ad"
      },
      "execution_count": null,
      "outputs": [
        {
          "output_type": "stream",
          "name": "stdout",
          "text": [
            "4\n",
            ". # . #\n",
            ". # . #\n",
            "6\n",
            "8\n",
            "[0, 2, 2, 3]\n"
          ]
        }
      ]
    },
    {
      "cell_type": "code",
      "source": [
        "while \"#\" in string and string = string 2"
      ],
      "metadata": {
        "id": "-i11ysw4cyeG"
      },
      "execution_count": null,
      "outputs": []
    },
    {
      "cell_type": "code",
      "source": [
        "mass# = ['#' * i for i in range(1, 5)]\n",
        "for  in \"aa dd ff #\""
      ],
      "metadata": {
        "colab": {
          "base_uri": "https://localhost:8080/",
          "height": 141
        },
        "id": "XOrQ2RMjk7AF",
        "outputId": "2bc88160-036c-453d-c89f-8deae63c158c"
      },
      "execution_count": null,
      "outputs": [
        {
          "output_type": "error",
          "ename": "TypeError",
          "evalue": "'in <string>' requires string as left operand, not list",
          "traceback": [
            "\u001b[0;31m---------------------------------------------------------------------------\u001b[0m",
            "\u001b[0;31mTypeError\u001b[0m                                 Traceback (most recent call last)",
            "\u001b[0;32m<ipython-input-15-29eb73133c1e>\u001b[0m in \u001b[0;36m<cell line: 1>\u001b[0;34m()\u001b[0m\n\u001b[0;32m----> 1\u001b[0;31m \u001b[0;34m[\u001b[0m\u001b[0;34m'#'\u001b[0m \u001b[0;34m*\u001b[0m \u001b[0mi\u001b[0m \u001b[0;32mfor\u001b[0m \u001b[0mi\u001b[0m \u001b[0;32min\u001b[0m \u001b[0mrange\u001b[0m\u001b[0;34m(\u001b[0m\u001b[0;36m1\u001b[0m\u001b[0;34m,\u001b[0m \u001b[0;36m5\u001b[0m\u001b[0;34m)\u001b[0m\u001b[0;34m]\u001b[0m \u001b[0;32min\u001b[0m \u001b[0;34m\"aa dd ff #\"\u001b[0m\u001b[0;34m\u001b[0m\u001b[0;34m\u001b[0m\u001b[0m\n\u001b[0m",
            "\u001b[0;31mTypeError\u001b[0m: 'in <string>' requires string as left operand, not list"
          ]
        }
      ]
    },
    {
      "cell_type": "markdown",
      "source": [
        "# Домашка №2"
      ],
      "metadata": {
        "id": "TbylKQM5bT5R"
      }
    },
    {
      "cell_type": "code",
      "source": [],
      "metadata": {
        "id": "SkEmcdcndW7w"
      },
      "execution_count": null,
      "outputs": []
    },
    {
      "cell_type": "markdown",
      "source": [
        "#A. Префиксные суммы"
      ],
      "metadata": {
        "id": "royLClrEbHts"
      }
    },
    {
      "cell_type": "code",
      "source": [
        "N = int(input())\n",
        "spisok = list(map(int, input().split()))\n",
        "prefix_sum = [0] * (N + 1)\n",
        "\n",
        "for i in range(1, N + 1):\n",
        "    prefix_sum[i] = prefix_sum[i - 1] + spisok[i - 1]\n",
        "\n",
        "print(\" \".join(map(str, prefix_sum[1:])))"
      ],
      "metadata": {
        "id": "mKzNZscRlLAu",
        "colab": {
          "base_uri": "https://localhost:8080/"
        },
        "outputId": "fed5556a-065d-4fbc-9112-9a5209d79e51"
      },
      "execution_count": null,
      "outputs": [
        {
          "output_type": "stream",
          "name": "stdout",
          "text": [
            "5\n",
            "1 0 0 0 1\n",
            "1 1 1 1 2\n"
          ]
        }
      ]
    },
    {
      "cell_type": "markdown",
      "source": [
        "#B. Сумма номеров"
      ],
      "metadata": {
        "id": "1E3CJVwrch37"
      }
    },
    {
      "cell_type": "code",
      "source": [
        "kn_input = list(map(int, input().split()))\n",
        "array = list(map(int, input().split()))\n",
        "N = kn_input[0]\n",
        "K = kn_input[1]\n",
        "\n",
        "prefix_sum = 0\n",
        "prefix_dict = {0 : 1}\n",
        "counter = 0\n",
        "\n",
        "for element in array:\n",
        "    prefix_sum += element\n",
        "    if (prefix_sum - K) in prefix_dict:\n",
        "        counter += prefix_dict[prefix_sum - K]\n",
        "    if prefix_sum in prefix_dict:\n",
        "        prefix_dict[prefix_sum] += 1\n",
        "    else:\n",
        "        prefix_dict[prefix_sum] = 1\n",
        "\n",
        "print(counter)"
      ],
      "metadata": {
        "id": "PuNlyMQR9SmG",
        "colab": {
          "base_uri": "https://localhost:8080/"
        },
        "outputId": "250455f1-7b81-4867-f2fc-3f1107cf14ae"
      },
      "execution_count": null,
      "outputs": [
        {
          "output_type": "stream",
          "name": "stdout",
          "text": [
            "5 3000\n",
            "1 2 3 4 5\n",
            "0\n"
          ]
        }
      ]
    },
    {
      "cell_type": "markdown",
      "source": [
        "#C. Город Че"
      ],
      "metadata": {
        "id": "GIRipdyrcsvT"
      }
    },
    {
      "cell_type": "code",
      "source": [
        "nr_input = list(map(int, input().split()))\n",
        "array = list(map(int, input().split()))\n",
        "n = nr_input[0]\n",
        "r = nr_input[1]\n",
        "\n",
        "last = 0\n",
        "pairs_cntr = 0\n",
        "N = len(array)\n",
        "for first in range(N):\n",
        "    while last < N and array[last] - array[first] <= r:\n",
        "        last += 1\n",
        "    pairs_cntr += N - last\n",
        "\n",
        "print(pairs_cntr)\n"
      ],
      "metadata": {
        "colab": {
          "base_uri": "https://localhost:8080/"
        },
        "id": "7kqhbZdkO6ce",
        "outputId": "3712367c-f19b-4c6d-cc07-1b078560a09e"
      },
      "execution_count": null,
      "outputs": [
        {
          "output_type": "stream",
          "name": "stdout",
          "text": [
            "6 2\n",
            "1 2 5 5 9 13\n",
            "13\n"
          ]
        }
      ]
    },
    {
      "cell_type": "code",
      "source": [
        "array = list(map(int, input().split()))\n",
        "sorted_array =sorted(array)\n",
        "print(sorted_array)\n"
      ],
      "metadata": {
        "colab": {
          "base_uri": "https://localhost:8080/"
        },
        "id": "obZK5ik0dbu5",
        "outputId": "2fc93cbe-8a2c-42ef-dd7e-e93b1994d3e3"
      },
      "execution_count": null,
      "outputs": [
        {
          "output_type": "stream",
          "name": "stdout",
          "text": [
            "3 8 5 7 1 2 4 9 6\n",
            "[1, 2, 3, 4, 5, 6, 7, 8, 9]\n"
          ]
        }
      ]
    },
    {
      "cell_type": "markdown",
      "source": [
        "#E. Удаление медиан"
      ],
      "metadata": {
        "id": "R_8IifwIc31P"
      }
    },
    {
      "cell_type": "code",
      "source": [
        "n = input()\n",
        "array = list(map(int, input().split()))\n",
        "\n",
        "sorted_array = sorted(array)\n",
        "N = len(array)\n",
        "a = b = N // 2\n",
        "if N % 2 != 0:\n",
        "    a = b = N // 2\n",
        "    print(sorted_array[b], end=\" \")\n",
        "    for _ in range(N // 2):\n",
        "       a -= 1\n",
        "       b += 1\n",
        "       print(sorted_array[a], sorted_array[b], end=\" \")\n",
        "else:\n",
        "    a = b = N // 2 - 1\n",
        "    for _ in range(N // 2):\n",
        "       print(sorted_array[a], end=\" \")\n",
        "       a -= 1\n",
        "       b += 1\n",
        "       print(sorted_array[b], end=\" \")\n",
        "\n"
      ],
      "metadata": {
        "colab": {
          "base_uri": "https://localhost:8080/"
        },
        "id": "8r3eUm9-mwWl",
        "outputId": "821374f2-091e-459f-db22-56cd00fb164c"
      },
      "execution_count": null,
      "outputs": [
        {
          "output_type": "stream",
          "name": "stdout",
          "text": [
            "1\n",
            "0\n",
            "0 "
          ]
        }
      ]
    },
    {
      "cell_type": "markdown",
      "source": [
        "#F. Сумма тройных произведений -> TL:(((("
      ],
      "metadata": {
        "id": "9bPmt5g9dDvD"
      }
    },
    {
      "cell_type": "code",
      "source": [
        "N = int(input())\n",
        "spisok = list(map(int, input().split()))\n",
        "\n",
        "prefix_sum = [0] * (N + 1)\n",
        "for i in range(1, N + 1):\n",
        "    prefix_sum[i] = prefix_sum[i - 1] + spisok[i - 1]\n",
        "\n",
        "last = 0\n",
        "triples_sum = 0\n",
        "\n",
        "last = N - 2\n",
        "while last > 0:\n",
        "    triples_sum += spisok[last] * (prefix_sum[-1] - prefix_sum[last + 1])\n",
        "    last -= 1\n",
        "\n",
        "\n",
        "\n",
        "\n",
        "for first in range(len(spisok)):\n",
        "    last = first + 1\n",
        "    while last < len(spisok) - 1:\n",
        "        triples_sum += spisok[first] * spisok[last] * (prefix_sum[-1] - prefix_sum[last + 1])\n",
        "        last += 1\n",
        "\n",
        "print(triples_sum % 1000000007)\n"
      ],
      "metadata": {
        "colab": {
          "base_uri": "https://localhost:8080/"
        },
        "id": "4mg-MamizyRD",
        "outputId": "1ef08710-c61c-48f0-c61e-c3f30a59fbdf"
      },
      "execution_count": null,
      "outputs": [
        {
          "output_type": "stream",
          "name": "stdout",
          "text": [
            "3\n",
            "143461 574468 902994\n",
            "630987644\n"
          ]
        }
      ]
    },
    {
      "cell_type": "code",
      "source": [
        "1*2*(3+4+5) + 1 * 3 * (4 + 5) + 1 * 4 * 5 + 2 * 3 * (4 + 5) + 2 * 4 * 5 + 3 * 4 * 5"
      ],
      "metadata": {
        "colab": {
          "base_uri": "https://localhost:8080/"
        },
        "id": "Pf6qR1mGO70c",
        "outputId": "af65dc6b-be37-46f5-a2ba-a5fc9c55f3b8"
      },
      "execution_count": null,
      "outputs": [
        {
          "output_type": "execute_result",
          "data": {
            "text/plain": [
              "225"
            ]
          },
          "metadata": {},
          "execution_count": 11
        }
      ]
    },
    {
      "cell_type": "code",
      "source": [],
      "metadata": {
        "id": "aULVVRqGkdZu"
      },
      "execution_count": null,
      "outputs": []
    },
    {
      "cell_type": "markdown",
      "source": [
        "#Третья домашка"
      ],
      "metadata": {
        "id": "ieAcHEYRUYpc"
      }
    },
    {
      "cell_type": "code",
      "source": [],
      "metadata": {
        "id": "C3TLv3r3UdK1"
      },
      "execution_count": null,
      "outputs": []
    },
    {
      "cell_type": "markdown",
      "source": [
        "#A. Правильная скобочная последовательность"
      ],
      "metadata": {
        "id": "E4EDV9ExUeLd"
      }
    },
    {
      "cell_type": "code",
      "source": [
        "array = input()\n",
        "bracket_stack = []\n",
        "flag = False\n",
        "\n",
        "if len(array) == 0:\n",
        "    print(\"yes\")\n",
        "elif len(array) == 1:\n",
        "    print(\"no\")\n",
        "else:\n",
        "   if array[0] in [\")\", \"]\",\"}\"]:\n",
        "      print(\"no\")\n",
        "   else:\n",
        "      bracket_stack.append(array[0])\n",
        "      for i in range(1, len(array)):\n",
        "          if array[i] in [\"(\", \"[\",\"{\"]:\n",
        "              bracket_stack.append(array[i])\n",
        "          else:\n",
        "              if len(bracket_stack) == 0:\n",
        "                 flag = True\n",
        "                 break\n",
        "              elif (\n",
        "                  (bracket_stack[-1] == \"(\" and array[i] == \")\")\n",
        "                  or (bracket_stack[-1] == \"[\" and array[i] == \"]\")\n",
        "                  or (bracket_stack[-1] == \"{\" and array[i] == \"}\")\n",
        "              ):\n",
        "                  bracket_stack.pop()\n",
        "              else:\n",
        "                  break\n",
        "      if (len(bracket_stack) != 0) or (flag == True):\n",
        "          print(\"no\")\n",
        "      else:\n",
        "          print(\"yes\")\n"
      ],
      "metadata": {
        "colab": {
          "base_uri": "https://localhost:8080/"
        },
        "id": "NrI4LP4-Uhjx",
        "outputId": "b05e88ce-7483-4917-c5f3-577f27785865"
      },
      "execution_count": null,
      "outputs": [
        {
          "output_type": "stream",
          "name": "stdout",
          "text": [
            "())(()\n",
            "no\n"
          ]
        }
      ]
    },
    {
      "cell_type": "markdown",
      "source": [
        "#D. Постфиксная запись"
      ],
      "metadata": {
        "id": "W8z2Mehqx4Zi"
      }
    },
    {
      "cell_type": "code",
      "source": [
        "def my_split(stroka, ):\n",
        "    strocka = \"\"\n",
        "    array = []\n",
        "    for letter in stroka:\n",
        "        if letter != \" \":\n",
        "            strocka += letter\n",
        "        elif (letter == \" \") and (strocka != \"\"):\n",
        "            array.append(strocka)\n",
        "            strocka = \"\"\n",
        "    else:\n",
        "        if strocka != \"\":\n",
        "            array.append(strocka)\n",
        "    return array"
      ],
      "metadata": {
        "id": "j16jA5zAaz7t"
      },
      "execution_count": null,
      "outputs": []
    },
    {
      "cell_type": "code",
      "source": [
        "array = my_split(input())\n",
        "numbers_stack = []\n",
        "\n",
        "for i in range(len(array)):\n",
        "    if array[i] not in [\"+\", \"-\", \"*\"]:\n",
        "       numbers_stack.append(int(array[i]))\n",
        "    else:\n",
        "       if array[i] == \"+\":\n",
        "          new = numbers_stack[-2] + numbers_stack[-1]\n",
        "          numbers_stack.pop()\n",
        "          numbers_stack[-1] = new\n",
        "       elif array[i] == \"-\":\n",
        "          new = numbers_stack[-2] - numbers_stack[-1]\n",
        "          numbers_stack.pop()\n",
        "          numbers_stack[-1] = new\n",
        "       elif array[i] == \"*\":\n",
        "          new = numbers_stack[-2] * numbers_stack[-1]\n",
        "          numbers_stack.pop()\n",
        "          numbers_stack[-1] = new\n",
        "\n",
        "print(numbers_stack[0])\n"
      ],
      "metadata": {
        "colab": {
          "base_uri": "https://localhost:8080/"
        },
        "id": "HZdXpudnyAf_",
        "outputId": "b69feddc-69b4-4e92-a144-f6f31af92536"
      },
      "execution_count": null,
      "outputs": [
        {
          "output_type": "stream",
          "name": "stdout",
          "text": [
            "1 2 +\n",
            "3\n"
          ]
        }
      ]
    },
    {
      "cell_type": "code",
      "source": [
        "1 + 3 * (2 * 55 - 15 * 66)"
      ],
      "metadata": {
        "colab": {
          "base_uri": "https://localhost:8080/"
        },
        "id": "03VDV-jc0cAC",
        "outputId": "d44ae102-e8c7-4080-d5bb-8711c1410988"
      },
      "execution_count": null,
      "outputs": [
        {
          "output_type": "execute_result",
          "data": {
            "text/plain": [
              "-2639"
            ]
          },
          "metadata": {},
          "execution_count": 51
        }
      ]
    },
    {
      "cell_type": "code",
      "source": [
        "1 2 55 * 15 66 * - 3 * +"
      ],
      "metadata": {
        "id": "Z0D3yrPl58eC"
      },
      "execution_count": null,
      "outputs": []
    },
    {
      "cell_type": "code",
      "source": [],
      "metadata": {
        "id": "ODuKTYRF6kdE"
      },
      "execution_count": null,
      "outputs": []
    },
    {
      "cell_type": "markdown",
      "source": [
        "#H. Стек с суммой*"
      ],
      "metadata": {
        "id": "Eh_Gf0D3Bu_B"
      }
    },
    {
      "cell_type": "code",
      "source": [
        "n = int(input())\n",
        "numbers_stack = []\n",
        "dynamic_prefixsum = [0]\n",
        "for i in range(n):\n",
        "    stroka = input()\n",
        "    if stroka[0] == \"+\":\n",
        "        new_number = int(stroka[1:])\n",
        "        numbers_stack.append(new_number)\n",
        "        dynamic_prefixsum.append(dynamic_prefixsum[-1] + new_number)\n",
        "    if stroka[0] == \"-\":\n",
        "        print(numbers_stack.pop())\n",
        "        dynamic_prefixsum.pop()\n",
        "    if stroka[0] == \"?\":\n",
        "        k = int(stroka[1:])\n",
        "        if k == 0:\n",
        "            print(0)\n",
        "        else:\n",
        "           print(dynamic_prefixsum[-1] - dynamic_prefixsum[-k -1])"
      ],
      "metadata": {
        "colab": {
          "base_uri": "https://localhost:8080/"
        },
        "id": "dvKEdpVbBwv8",
        "outputId": "cfbfba2d-8766-4b8a-cf9d-7a22b4fad49a"
      },
      "execution_count": null,
      "outputs": [
        {
          "output_type": "stream",
          "name": "stdout",
          "text": [
            "7\n",
            "+1\n",
            "+2\n",
            "+3\n",
            "?2\n",
            "5\n",
            "-\n",
            "3\n",
            "-\n",
            "2\n",
            "?1\n",
            "1\n"
          ]
        }
      ]
    },
    {
      "cell_type": "code",
      "source": [],
      "metadata": {
        "id": "z4VvhYg8DKwf"
      },
      "execution_count": null,
      "outputs": []
    },
    {
      "cell_type": "markdown",
      "source": [
        "#E. Значение арифметического выражения"
      ],
      "metadata": {
        "id": "VDE9wMpEMmMD"
      }
    },
    {
      "cell_type": "code",
      "source": [
        "def correct_bracketing(array):\n",
        "    bracket_stack = []\n",
        "    flag = False\n",
        "\n",
        "    for i in range(0, len(array)):\n",
        "        if array[i] in [\"(\", \"[\"]:\n",
        "            bracket_stack.append(array[i])\n",
        "        elif array[i] in [\")\", \"]\"]:\n",
        "            if len(bracket_stack) == 0:\n",
        "              flag = True\n",
        "              break\n",
        "            elif (\n",
        "                (bracket_stack[-1] == \"(\" and array[i] == \")\")\n",
        "                or (bracket_stack[-1] == \"[\" and array[i] == \"]\")\n",
        "            ):\n",
        "                bracket_stack.pop()\n",
        "            else:\n",
        "                break\n",
        "    if (len(bracket_stack) != 0) or (flag == True):\n",
        "        return \"no\"\n",
        "    else:\n",
        "        return \"yes\"\n",
        "\n",
        "def help_E_split(stroka):\n",
        "    strocka = \"\"\n",
        "    array = []\n",
        "    help_stroka = \"\"\n",
        "    i = 0\n",
        "    while i < len(stroka):\n",
        "        # добавялем в массив числа\n",
        "        if stroka[i].isdigit():\n",
        "            while stroka[i].isdigit():\n",
        "                help_stroka += stroka[i]\n",
        "                i += 1\n",
        "                if i == len(stroka):\n",
        "                    break\n",
        "            else:\n",
        "                array.append(help_stroka)\n",
        "                help_stroka = \"\"\n",
        "        # добавляем в массив операции и скобки\n",
        "        elif stroka[i] in [\"+\", \"-\", \"*\", \"(\", \")\"]:\n",
        "                # если оказывается, что минус часть отрицательного числа\n",
        "                if stroka[i] == \"-\" and i <= (len(stroka) - 2) and stroka[i + 1].isdigit():\n",
        "                    if len(array) == 0:\n",
        "                        help_stroka += \"-\"\n",
        "                        i += 1\n",
        "                    elif array[-1] == \"(\":\n",
        "                        help_stroka += \"-\"\n",
        "                        i += 1\n",
        "                    else:\n",
        "                        array.append(stroka[i])\n",
        "                        i += 1\n",
        "\n",
        "                else:\n",
        "                    array.append(stroka[i])\n",
        "                    i += 1\n",
        "        elif stroka[i] == \" \":\n",
        "            i += 1\n",
        "        # проверка на вхождение элемента в разрешённый пул\n",
        "        else:\n",
        "            return \"WRONG\"\n",
        "    # добавляем в самом конце строку чисел (для случая с числом, оканчивающимся на последний элемент входной строки)\n",
        "    else:\n",
        "         if help_stroka.isdigit():\n",
        "            array.append(help_stroka)\n",
        "            help_stroka = \"\"\n",
        "\n",
        "    # ещё одна проверка - на числа разделенные только пробелами\n",
        "    if len(array) > 1:\n",
        "        for j in range(1, len(array)):\n",
        "            if (\n",
        "                ((array[j - 1].isnumeric() or (array[j - 1].startswith('-') and array[j - 1][1:].isnumeric())) and array[j].isnumeric())\n",
        "                or (array[j - 1] in [\"+\", \"-\", \"*\"] and array[j] in [\"+\", \"-\", \"*\"])\n",
        "                or (array[j - 1] in [\"(\", \"-\", \"*\"] and array[j] in [\"-\", \"*\"])\n",
        "                ):\n",
        "                return \"WRONG\"\n",
        "    if array[-1] in [\"+\", \"-\", \"*\"]:\n",
        "         return \"WRONG\"\n",
        "    return array\n",
        "\n",
        "# функция вычисляющая значение выраения по постфиксной записи\n",
        "def postfix_notation(array):\n",
        "    numbers_stack = []\n",
        "    for i in range(len(array)):\n",
        "        if array[i] not in [\"+\", \"-\", \"*\"]:\n",
        "          numbers_stack.append(int(array[i]))\n",
        "        else:\n",
        "          if array[i] == \"+\":\n",
        "              new = numbers_stack[-2] + numbers_stack[-1]\n",
        "              numbers_stack.pop()\n",
        "              numbers_stack[-1] = new\n",
        "          elif array[i] == \"-\":\n",
        "              new = numbers_stack[-2] - numbers_stack[-1]\n",
        "              numbers_stack.pop()\n",
        "              numbers_stack[-1] = new\n",
        "          elif array[i] == \"*\":\n",
        "              new = numbers_stack[-2] * numbers_stack[-1]\n",
        "              numbers_stack.pop()\n",
        "              numbers_stack[-1] = new\n",
        "\n",
        "    return(numbers_stack[0])\n",
        "\n",
        "def find_expression(stroka):\n",
        "    array = help_E_split(stroka)\n",
        "    if array == \"WRONG\":\n",
        "        print(\"WRONG\")\n",
        "        return\n",
        "    if correct_bracketing(array) == \"no\":\n",
        "        print(\"WRONG\")\n",
        "        return\n",
        "    answer = []\n",
        "    operation_stack = []\n",
        "\n",
        "    for i in range(len(array)):\n",
        "\n",
        "        # если элемент число - добавляем в ответ\n",
        "        if array[i].isdigit():\n",
        "            answer.append(int(array[i]))\n",
        "\n",
        "        # если элемент - отрицательное число\n",
        "        elif (array[i].startswith('-') and array[i][1:].isnumeric()):\n",
        "\n",
        "            # в таком случае добавляем в ответ 0\n",
        "            answer.append(0)\n",
        "            answer.append(array[i][1:])\n",
        "            # вставляем в ответ элементы, которые не легче этого минуса\n",
        "            j = len(operation_stack) - 1\n",
        "            if len(operation_stack) == 0: # если стек пустой, то просто добавляем в него минус\n",
        "                operation_stack.append(\"-\")\n",
        "            else:\n",
        "                while j != -1 and operation_stack[j] in [\"*\", \"+\", \"-\"]:\n",
        "                    answer.append(operation_stack[j])\n",
        "                    operation_stack.pop()\n",
        "                    j -= 1\n",
        "                operation_stack.append(\"-\")\n",
        "\n",
        "        # проверка на принадлежность элемента множеству допустимых операций\n",
        "        elif array[i] in [\"+\", \"*\", \"-\"]:\n",
        "\n",
        "            # минус и плюс идут в одной обойме\n",
        "            if array[i] == \"+\" or array[i] == \"-\":\n",
        "                j = len(operation_stack) - 1 # индекс последнего элемента (не совсем хорошо, т.к у нас стек, а там такой функции вроде и не должно быть\n",
        "                if len(operation_stack) == 0:\n",
        "                    operation_stack.append(array[i])\n",
        "                else:\n",
        "                    while j != -1 and operation_stack[j] in [\"*\", \"+\", \"-\"]:\n",
        "                        answer.append(operation_stack[j])\n",
        "                        operation_stack.pop()\n",
        "                        j -= 1\n",
        "                    else:\n",
        "                        operation_stack.append(array[i]) # добавлем элемент - операцию в стек после всех удалений тяжелых операций\n",
        "\n",
        "            # действия, если элемент *\n",
        "            elif array[i] == \"*\":\n",
        "                j = len(operation_stack) - 1 # индекс последнего элемента\n",
        "                if len(operation_stack) == 0:\n",
        "                    operation_stack.append(array[i])\n",
        "                else:\n",
        "                    while j != -1 and  operation_stack[j] == \"*\":\n",
        "                        answer.append(operation_stack[j])\n",
        "                        operation_stack.pop()\n",
        "                        j -= 1\n",
        "                    else:\n",
        "                        operation_stack.append(\"*\")\n",
        "\n",
        "        # случай открытой скобки\n",
        "        elif array[i] == \"(\":\n",
        "            operation_stack.append(array[i])\n",
        "\n",
        "        # случай закрытой скобки\n",
        "        elif array[i] == \")\":\n",
        "            j = len(operation_stack) - 1\n",
        "            while j != -1 and operation_stack[j] != \"(\":\n",
        "                answer.append(operation_stack[j])\n",
        "                operation_stack.pop()\n",
        "                j -= 1\n",
        "            else:\n",
        "                operation_stack.pop()   # удалили открытую скобку\n",
        "\n",
        "    # добавляем все оставшиеся операции в ответ\n",
        "    for i in range(len(operation_stack) - 1, -1, -1):\n",
        "        answer.append(operation_stack[i])\n",
        "\n",
        "    # применяем функции вычисления значения выражения по постфиксной записи\n",
        "    print(postfix_notation(answer))\n",
        "\n",
        "stroka = input()\n",
        "find_expression(stroka)"
      ],
      "metadata": {
        "colab": {
          "base_uri": "https://localhost:8080/"
        },
        "id": "TJzaJ6ZE0d3a",
        "outputId": "e34f39b2-47d2-438b-db22-6e93a53ea1a0"
      },
      "execution_count": null,
      "outputs": [
        {
          "output_type": "stream",
          "name": "stdout",
          "text": [
            "1*2*3+(4*5*6*7+8*9) *\n",
            "WRONG\n"
          ]
        }
      ]
    },
    {
      "cell_type": "markdown",
      "source": [
        "#F. Минимальная ПСП"
      ],
      "metadata": {
        "id": "S4oGFXvuVCSf"
      }
    },
    {
      "cell_type": "code",
      "source": [
        "def brackets_psp_cleaner(array):\n",
        "    bracket_stack = []\n",
        "\n",
        "    for i in range(len(array)):\n",
        "        if array[i] in [\"(\", \"[\"]:\n",
        "            bracket_stack.append(array[i])\n",
        "        elif len(bracket_stack) != 0:\n",
        "            if (\n",
        "                (bracket_stack[-1] == \"(\" and array[i] == \")\")\n",
        "                or (bracket_stack[-1] == \"[\" and array[i] == \"]\")\n",
        "                ):\n",
        "                bracket_stack.pop()\n",
        "    return bracket_stack\n"
      ],
      "metadata": {
        "id": "FnQed1YHVL9j"
      },
      "execution_count": null,
      "outputs": []
    },
    {
      "cell_type": "code",
      "source": [
        "n = int(input())\n",
        "w_stroka = input()\n",
        "s = input()\n",
        "\n",
        "# словарь весов скобок\n",
        "w = {}\n",
        "for i, letter in enumerate(w_stroka):\n",
        "    w[letter] = [i + 1]\n",
        "\n",
        "ost = brackets_psp_cleaner(s) # остаточная не ПСП-ая часть\n",
        "p = len(ost) #  длина этой части\n",
        "r = n - len(s) - p  # длина вспомогательной ПСП-шной части\n",
        "\n",
        "# ищем открытую скобку с меньшим весом\n",
        "min_bracket = \"\"\n",
        "for i in range(len(w_stroka)):\n",
        "    if w_stroka[i] in [\"(\", \"[\"]:\n",
        "        min_bracket = w_stroka[i]\n",
        "        break\n",
        "\n",
        "# делаем симметричную скобочную последовательность\n",
        "tso = \"\"\n",
        "for i in range(len(ost) - 1, -1, -1):\n",
        "    if ost[i] == \"[\":\n",
        "        tso += \"]\"\n",
        "    elif ost[i] == \"(\":\n",
        "        tso += \")\"\n",
        "\n",
        "# ищем индекс начиная скоторого откртыая скобка с минимальным весом легче tso\n",
        "k = -1\n",
        "for i in range(len(tso)):\n",
        "    if w[tso[i]] > w[min_bracket]:\n",
        "        k = i\n",
        "        break\n",
        "\n",
        "psp_create = \"\"\n",
        "\n",
        "closed_for_min_bracket = \"\"\n",
        "if min_bracket == \"(\":\n",
        "    closed_for_min_bracket = \")\"\n",
        "elif min_bracket == \"[\":\n",
        "    closed_for_min_bracket = \"]\"\n",
        "\n",
        "# создаём вспомогательную ПСП, согласно тому легче ли {min или }\n",
        "if w[min_bracket] > w[closed_for_min_bracket]:\n",
        "    psp_create = (min_bracket + closed_for_min_bracket) * (r // 2)\n",
        "else:\n",
        "    psp_create = (min_bracket) * (r // 2) + closed_for_min_bracket * (r // 2)\n",
        "\n",
        "# формируем часть ответа после s\n",
        "preanswer = \"\"\n",
        "if len(tso) == 0:\n",
        "    preanswer += psp_create\n",
        "elif k == 0:\n",
        "    preanswer += psp_create + tso\n",
        "elif k == -1:\n",
        "    preanswer += tso + psp_create\n",
        "else:\n",
        "    preanswer += tso[:k] + psp_create + tso[k:]\n",
        "\n",
        "answer = s + preanswer\n",
        "\n",
        "print(answer)\n"
      ],
      "metadata": {
        "colab": {
          "base_uri": "https://localhost:8080/"
        },
        "id": "00FsYASa-Ybr",
        "outputId": "377e1712-ac0e-407b-e935-a68c7e816345"
      },
      "execution_count": null,
      "outputs": [
        {
          "output_type": "stream",
          "name": "stdout",
          "text": [
            "6\n",
            "()[]\n",
            "([(\n",
            "([()])\n"
          ]
        }
      ]
    },
    {
      "cell_type": "code",
      "source": [],
      "metadata": {
        "id": "gin99ha58wnU"
      },
      "execution_count": null,
      "outputs": []
    },
    {
      "cell_type": "markdown",
      "source": [
        "# B. Великое Лайнландское переселение"
      ],
      "metadata": {
        "id": "ZKa7mOj2kvbe"
      }
    },
    {
      "cell_type": "code",
      "source": [
        "n = int(input())\n",
        "array = list(map(int, input().split(\" \")))\n",
        "\n",
        "stack = []\n",
        "answer = [0] * n\n",
        "stack.append((0, array[0])) # добавляем кортеж из индекса города и значения средней цены проживания в нём\n",
        "for i in range(1, n):\n",
        "    while len(stack) != 0 and array[i] < stack[-1][1]:\n",
        "        answer[stack[-1][0]] = i\n",
        "        stack.pop()\n",
        "    else:\n",
        "        stack.append((i, array[i])) # добавляем кортеж из индекса города и значения средней цены проживания в нём\n",
        "\n",
        "for i in range(len(stack)):\n",
        "    answer[stack[i][0]] = -1\n",
        "\n",
        "for i in range(n):\n",
        "    print(answer[i], end=\" \")"
      ],
      "metadata": {
        "colab": {
          "base_uri": "https://localhost:8080/"
        },
        "id": "WHqFQTQXkw0V",
        "outputId": "0a2b8f70-7eec-49b3-90f6-de19c1b2dea0"
      },
      "execution_count": null,
      "outputs": [
        {
          "output_type": "stream",
          "name": "stdout",
          "text": [
            "5\n",
            "1 2 3 4 1\n",
            "-1 4 4 4 -1 "
          ]
        }
      ]
    },
    {
      "cell_type": "code",
      "source": [
        "тесты\n",
        "два числа\n",
        "два нуля\n",
        "два равных\n",
        "один больше другого\n",
        "наооборот\n",
        "одинаковые\n",
        "нули\n",
        "есть один ноль\n",
        "в конце меньший\n",
        "возрастающая"
      ],
      "metadata": {
        "id": "8pb9Kx3poVPj"
      },
      "execution_count": null,
      "outputs": []
    },
    {
      "cell_type": "markdown",
      "source": [
        "# C. Минимум на отрезке"
      ],
      "metadata": {
        "id": "_UT6d8z7tX56"
      }
    },
    {
      "cell_type": "code",
      "source": [
        "import collections\n",
        "from collections import deque\n",
        "\n",
        "n, k = list(map(int, input().split()))\n",
        "array = list(map(int, input().split()))\n",
        "\n",
        "dq = deque()\n",
        "answer = [0] * (n - k + 1) # число вхождений окон длины k равно n - k + 1\n",
        "j = 0\n",
        "flag = False # маркер первого окна\n",
        "\n",
        "for i in range(n - k + 1): # проходимся по первым n - k + 1. Они будут началами всех окон длины k\n",
        "    if flag:\n",
        "        while len(dq) != 0 and array[j] < dq[-1]:\n",
        "            dq.pop()\n",
        "        else:\n",
        "            dq.append(array[j])\n",
        "    else: # случай первого окна\n",
        "        dq.append(array[0])\n",
        "        for j in range(1, k): # в общей сложности добавляем k элементов в стек\n",
        "            while len(dq) != 0 and array[j] < dq[-1]: # удаляем из стека все элементы тяжелее рассматриваемого\n",
        "                dq.pop()\n",
        "            else:\n",
        "                dq.append(array[j]) # добавили сам рассматриваемый элемент\n",
        "\n",
        "    if flag:\n",
        "        if dq[0] == array[i - 1]: # в случае всех окон кроме первого - если первый элемент оказался самым левым из прошлого окна, то его удаляем, так как окн сдвинулось\n",
        "            dq.popleft()\n",
        "            answer[i] = dq[0]\n",
        "        else:\n",
        "            answer[i] = dq[0] # иначе наименьший элемент в окне - первый в деке\n",
        "        j += 1\n",
        "    else:  # в случае первого окна - первый элемент дека будет наименьшим в первом окне\n",
        "        answer[0] = dq[0]\n",
        "        flag = True\n",
        "        j += 1\n",
        "\n",
        "for i in range(len(answer)):\n",
        "    print(answer[i])"
      ],
      "metadata": {
        "colab": {
          "base_uri": "https://localhost:8080/"
        },
        "id": "yj3ilOg5tZ0Z",
        "outputId": "321fb283-9065-42a2-9498-afe905ea8b47"
      },
      "execution_count": null,
      "outputs": [
        {
          "output_type": "stream",
          "name": "stdout",
          "text": [
            "5 5\n",
            "1 2 3 4 5\n",
            "1\n"
          ]
        }
      ]
    },
    {
      "cell_type": "code",
      "source": [
        "3 4\n",
        "1 5 9\n",
        "\n"
      ],
      "metadata": {
        "id": "4vizceax2I0a"
      },
      "execution_count": null,
      "outputs": []
    },
    {
      "cell_type": "markdown",
      "source": [
        "#G. Очередь в ПВЗ* --------> TL (^___^("
      ],
      "metadata": {
        "id": "lBSwbfGLd0gO"
      }
    },
    {
      "cell_type": "code",
      "source": [
        "import queue\n",
        "n, b = list(map(int, input().split()))\n",
        "array = list(map(int, input().split()))\n",
        "q = queue.Queue()\n",
        "sum_of_time = 0\n",
        "\n",
        "for i in range(1, n + 1):\n",
        "    for j in range(array[i - 1]):\n",
        "        q.put(i)\n",
        "    size_q = q.qsize()\n",
        "    if size_q != 0:\n",
        "        if size_q <= b:\n",
        "            for j in range(size_q):\n",
        "                sum_of_time += i - q.get() + 1\n",
        "        else:\n",
        "            for j in range(b):\n",
        "                sum_of_time += i - q.get() + 1\n",
        "\n",
        "while  q.qsize() != 0:\n",
        "    sum_of_time += n + 1 - q.get() + 1\n",
        "\n",
        "print(sum_of_time)"
      ],
      "metadata": {
        "colab": {
          "base_uri": "https://localhost:8080/"
        },
        "id": "CW-_8PEuJJZr",
        "outputId": "9fbabba8-91c3-4466-a238-37e5d87db4be"
      },
      "execution_count": null,
      "outputs": [
        {
          "output_type": "stream",
          "name": "stdout",
          "text": [
            "2 2\n",
            "1 4\n",
            "7\n"
          ]
        }
      ]
    },
    {
      "cell_type": "code",
      "source": [
        "23 4\n",
        "1 5 9\n"
      ],
      "metadata": {
        "colab": {
          "base_uri": "https://localhost:8080/"
        },
        "id": "chXfJNPOJrIJ",
        "outputId": "280e55d5-4cd0-4b97-f457-81601d6cb7ab"
      },
      "execution_count": null,
      "outputs": [
        {
          "output_type": "execute_result",
          "data": {
            "text/plain": [
              "1"
            ]
          },
          "metadata": {},
          "execution_count": 36
        }
      ]
    },
    {
      "cell_type": "code",
      "source": [],
      "metadata": {
        "id": "1Msm7GiBVK5z"
      },
      "execution_count": null,
      "outputs": []
    },
    {
      "cell_type": "markdown",
      "source": [
        "# Четвёртая домашечка"
      ],
      "metadata": {
        "id": "qH3QTVKhb2Kx"
      }
    },
    {
      "cell_type": "markdown",
      "source": [
        "# A. Родословная: подсчет уровней"
      ],
      "metadata": {
        "id": "unhyjeODAZs_"
      }
    },
    {
      "cell_type": "markdown",
      "source": [
        "Какое-то творчество нейронки для обучения естественной нейронки - меня"
      ],
      "metadata": {
        "id": "XvgTOvX_eJjd"
      }
    },
    {
      "cell_type": "code",
      "source": [
        "class Car:\n",
        "\n",
        "    def __init__(self, color, consumption, tank_volume, mileage=0):\n",
        "        self.color = color\n",
        "        self.consumption = consumption\n",
        "        self.tank_volume = tank_volume\n",
        "        self.reserve = tank_volume\n",
        "        self.mileage = mileage\n",
        "        self.engine_on = False\n",
        "\n",
        "    def start_engine(self):\n",
        "        if not self.engine_on and self.reserve > 0:\n",
        "            self.engine_on = True\n",
        "            return \"Двигатель запущен.\"\n",
        "        return \"Двигатель уже был запущен.\"\n",
        "\n",
        "    def stop_engine(self):\n",
        "        if self.engine_on:\n",
        "            self.engine_on = False\n",
        "            return \"Двигатель остановлен.\"\n",
        "        return \"Двигатель уже был остановлен.\"\n",
        "\n",
        "    def drive(self, distance):\n",
        "        if not self.engine_on:\n",
        "            return \"Двигатель не запущен.\"\n",
        "        if self.reserve / self.consumption * 100 < distance:\n",
        "            return \"Малый запас топлива.\"\n",
        "        self.mileage += distance\n",
        "        self.reserve -= distance / 100 * self.consumption\n",
        "        return f\"Проехали {distance} км. Остаток топлива: {self.reserve} л.\"\n",
        "\n",
        "    def refuel(self):\n",
        "        self.reserve = self.tank_volume\n",
        "\n",
        "    def get_mileage(self):\n",
        "        return self.mileage\n",
        "\n",
        "    def get_reserve(self):\n",
        "        return self.reserve\n",
        "\n",
        "    def get_consumption(self):\n",
        "        return self.consumption\n",
        "\n",
        "\n",
        "class ElectricCar:\n",
        "\n",
        "    def __init__(self, color, consumption, bat_capacity, mileage=0):\n",
        "        self.color = color\n",
        "        self.consumption = consumption\n",
        "        self.bat_capacity = bat_capacity\n",
        "        self.reserve = bat_capacity\n",
        "        self.mileage = mileage\n",
        "        self.engine_on = False\n",
        "\n",
        "    def start_engine(self):\n",
        "        if not self.engine_on and self.reserve > 0:\n",
        "            self.engine_on = True\n",
        "            return \"Двигатель запущен.\"\n",
        "        return \"Двигатель уже был запущен.\"\n",
        "\n",
        "    def stop_engine(self):\n",
        "        if self.engine_on:\n",
        "            self.engine_on = False\n",
        "            return \"Двигатель остановлен.\"\n",
        "        return \"Двигатель уже был остановлен.\"\n",
        "\n",
        "    def drive(self, distance):\n",
        "        if not self.engine_on:\n",
        "            return \"Двигатель не запущен.\"\n",
        "        if self.reserve / self.consumption * 100 < distance:\n",
        "            return \"Малый заряд батареи.\"\n",
        "        self.mileage += distance\n",
        "        self.reserve -= distance / 100 * self.consumption\n",
        "        return f\"Проехали {distance} км. Остаток заряда: {self.reserve} кВт*ч.\"\n",
        "\n",
        "    def recharge(self):\n",
        "        self.reserve = self.bat_capacity\n",
        "\n",
        "    def get_mileage(self):\n",
        "        return self.mileage\n",
        "\n",
        "    def get_reserve(self):\n",
        "        return self.reserve\n",
        "\n",
        "    def get_consumption(self):\n",
        "        return self.consumption\n",
        "\n",
        "\n",
        "def range_reserve(car):\n",
        "    return car.get_reserve() / car.get_consumption() * 100\n",
        "\n",
        "\n",
        "car_1 = Car(color=\"black\", consumption=10, tank_volume=55)\n",
        "car_2 = ElectricCar(color=\"white\", consumption=15, bat_capacity=90)\n",
        "print(f\"Запас хода: {range_reserve(car_1)} км.\")\n",
        "print(f\"Запас хода: {range_reserve(car_2)} км.\")"
      ],
      "metadata": {
        "id": "1-KLLmCHf_Nv"
      },
      "execution_count": null,
      "outputs": []
    },
    {
      "cell_type": "code",
      "source": [
        "class TreeNode:\n",
        "    def __init__(self, value):\n",
        "        self.value = value\n",
        "        self.children = []\n",
        "\n",
        "    def add_child(self, child_node):\n",
        "        self.children.append(child_node)\n",
        "\n",
        "def depth_search(node, target, depth=0):\n",
        "    if node.value == target:\n",
        "        return depth\n",
        "    for child in node.children:\n",
        "        result = depth_search(child, target, depth + 1)\n",
        "        if result is not None:\n",
        "            return result\n",
        "    return None\n",
        "\n",
        "def breadth_first_search(root, target):\n",
        "    queue = [root]\n",
        "    while queue:\n",
        "        node = queue.pop(0)\n",
        "        if node.value == target:\n",
        "            return True\n",
        "        queue.extend(node.children)\n",
        "    return False\n",
        "\n",
        "# Пример использования\n",
        "root = TreeNode(1)\n",
        "root.add_child(TreeNode(2))\n",
        "root.add_child(TreeNode(3))\n",
        "root.children[0].add_child(TreeNode(4))\n",
        "root.children[0].add_child(TreeNode(5))\n",
        "root.children[1].add_child(TreeNode(6))\n",
        "\n",
        "print(depth_search(root, 5))  # Ожидаемый результат: 2\n",
        "print(breadth_first_search(root, 6))  # Ожидаемый результат: True"
      ],
      "metadata": {
        "colab": {
          "base_uri": "https://localhost:8080/"
        },
        "id": "LBj0v4VygIkb",
        "outputId": "16f6c444-45d7-49a4-e9e7-7062f72536e2"
      },
      "execution_count": null,
      "outputs": [
        {
          "output_type": "stream",
          "name": "stdout",
          "text": [
            "2\n",
            "True\n"
          ]
        }
      ]
    },
    {
      "cell_type": "markdown",
      "source": [
        "Само решение"
      ],
      "metadata": {
        "id": "a8h38wf_ecbJ"
      }
    },
    {
      "cell_type": "code",
      "source": [
        "class Node:\n",
        "    def __init__(self, data):\n",
        "        self.data = data\n",
        "        self.children = []\n",
        "        self.parent = None\n",
        "\n",
        "    def add_child(self, child_node):\n",
        "        self.children.append(child_node)\n",
        "\n",
        "    def add_parent(self, parent_node):\n",
        "        self.parent = parent_node\n",
        "\n",
        "def print_tree(node, level=0):\n",
        "    if node is not None:\n",
        "        print(\"  \" * level + str(node.data))\n",
        "        for child in node.children:\n",
        "            print_tree(child, level + 1)"
      ],
      "metadata": {
        "id": "8DCUfNWTflH-"
      },
      "execution_count": null,
      "outputs": []
    },
    {
      "cell_type": "code",
      "source": [
        "N = int(input())\n",
        "node = {}\n",
        "for _ in range(N-1):\n",
        "    son, parent = input().split(\" \")\n",
        "    if parent not in node:\n",
        "       node[parent] = Node(parent)\n",
        "    if son not in node:\n",
        "       node[son] = Node(son)\n",
        "    node[son].add_parent(node[parent])\n",
        "    node[parent].add_child(node[son])\n",
        "\n",
        "\n",
        "for key in node:\n",
        "    if node[key].parent == None:\n",
        "        root = node[key]\n",
        "        break\n",
        "\n",
        "print_tree(root)"
      ],
      "metadata": {
        "colab": {
          "base_uri": "https://localhost:8080/"
        },
        "id": "vyGla38DFIyf",
        "outputId": "1c82a53f-f9d0-4696-ec53-1b9380980f06"
      },
      "execution_count": null,
      "outputs": [
        {
          "output_type": "stream",
          "name": "stdout",
          "text": [
            "9\n",
            "b a\n",
            "c a\n",
            "d b\n",
            "e b\n",
            "f c\n",
            "g d\n",
            "h d\n",
            "i e\n",
            "a\n",
            "  b\n",
            "    d\n",
            "      g\n",
            "      h\n",
            "    e\n",
            "      i\n",
            "  c\n",
            "    f\n"
          ]
        }
      ]
    },
    {
      "cell_type": "code",
      "source": [
        "9\n",
        "Alexei Peter_I\n",
        "Anna Peter_I\n",
        "Elizabeth Peter_I\n",
        "Peter_II Alexei\n",
        "Peter_III Anna\n",
        "Paul_I Peter_III\n",
        "Alexander_I Paul_I\n",
        "Nicholaus_I Paul_I\n"
      ],
      "metadata": {
        "id": "ZYpQ43HxFMz2"
      },
      "execution_count": null,
      "outputs": []
    },
    {
      "cell_type": "markdown",
      "source": [
        "Полное решение"
      ],
      "metadata": {
        "id": "uFIy8y_yeihC"
      }
    },
    {
      "cell_type": "code",
      "source": [
        "class Node:\n",
        "    def __init__(self, data):\n",
        "        self.data = data\n",
        "        self.children = []\n",
        "        self.parent = None\n",
        "\n",
        "    def add_child(self, child_node):\n",
        "        self.children.append(child_node)\n",
        "\n",
        "    def add_parent(self, parent_node):\n",
        "        self.parent = parent_node\n",
        "\n",
        "def depth_nodes(node, depth_dict = {}, level=0):\n",
        "    if node is not None:\n",
        "        depth_dict[node.data] = level\n",
        "        for child in node.children:\n",
        "            depth_nodes(child, depth_dict, level + 1)\n",
        "\n",
        "N = int(input())\n",
        "node = {}\n",
        "for _ in range(N-1):\n",
        "    son, parent = input().split(\" \")\n",
        "    if parent not in node:\n",
        "       node[parent] = Node(parent)\n",
        "    if son not in node:\n",
        "       node[son] = Node(son)\n",
        "    node[son].add_parent(node[parent])\n",
        "    node[parent].add_child(node[son])\n",
        "\n",
        "\n",
        "for key in node:\n",
        "    if node[key].parent == None:\n",
        "        root = node[key]\n",
        "        break\n",
        "\n",
        "dict_dep = {}\n",
        "depth_nodes(root, dict_dep)\n",
        "sorted_dict = sorted(dict_dep)\n",
        "for key in sorted_dict:\n",
        "    print(f\"{key} {dict_dep[key]}\")"
      ],
      "metadata": {
        "colab": {
          "base_uri": "https://localhost:8080/"
        },
        "id": "A04524SekOg3",
        "outputId": "91c6dd1c-703d-46f3-a809-8360d18897db"
      },
      "execution_count": null,
      "outputs": [
        {
          "output_type": "stream",
          "name": "stdout",
          "text": [
            "10\n",
            "BFNRMLH CSZMPFXBZ\n",
            "CSZMPFXBZ IHWBQDJ\n",
            "FMVQTU FUXATQUGIG\n",
            "FUXATQUGIG IRVAVMQKN\n",
            "GNVIZ IQGIGUJZ\n",
            "IHWBQDJ LACXYFQHSQ\n",
            "IQGIGUJZ JMUPNYRQD\n",
            "IRVAVMQKN GNVIZ\n",
            "JMUPNYRQD BFNRMLH\n",
            "BFNRMLH 3\n",
            "CSZMPFXBZ 2\n",
            "FMVQTU 9\n",
            "FUXATQUGIG 8\n",
            "GNVIZ 6\n",
            "IHWBQDJ 1\n",
            "IQGIGUJZ 5\n",
            "IRVAVMQKN 7\n",
            "JMUPNYRQD 4\n",
            "LACXYFQHSQ 0\n"
          ]
        }
      ]
    },
    {
      "cell_type": "markdown",
      "source": [
        "# B. Родословная: число потомков"
      ],
      "metadata": {
        "id": "-VmOpOFuAdez"
      }
    },
    {
      "cell_type": "code",
      "source": [
        "class Node:\n",
        "    def __init__(self, name):\n",
        "        self.name = name\n",
        "        self.children = []\n",
        "        self.parent = None\n",
        "\n",
        "    def add_children(self, node):\n",
        "        self.children.append(node)\n",
        "\n",
        "    def add_parent(self, node):\n",
        "        self.parent = node\n",
        "\n",
        "def print_tree(node, level=0):\n",
        "    if node is not None:\n",
        "        print(\"  \" * level + str(node.data))\n",
        "        for child in node.children:\n",
        "            print_tree(child, level + 1)\n",
        "\n",
        "def descendant_numbers(node):\n",
        "    if len(node.children) == 0:\n",
        "        nodes_dict[node.name] = 0\n",
        "        return nodes_dict, 0\n",
        "    else:\n",
        "        des_numbs = len(node.children)\n",
        "        for node_child in node.children:\n",
        "            des_numbs += descendant_numbers(node_child)[1]\n",
        "        nodes_dict[node.name] = des_numbs\n",
        "        return nodes_dict, des_numbs"
      ],
      "metadata": {
        "id": "3-b0PHGEAg5K"
      },
      "execution_count": null,
      "outputs": []
    },
    {
      "cell_type": "markdown",
      "source": [
        "Само решение"
      ],
      "metadata": {
        "id": "FclWKwu-exg1"
      }
    },
    {
      "cell_type": "code",
      "source": [
        "class Node:\n",
        "    def __init__(self, name):\n",
        "        self.name = name\n",
        "        self.children = []\n",
        "        self.parent = None\n",
        "\n",
        "    def add_children(self, node):\n",
        "        self.children.append(node)\n",
        "\n",
        "    def add_parent(self, node):\n",
        "        self.parent = node\n",
        "\n",
        "def print_tree(node, level=0):\n",
        "    if node is not None:\n",
        "        print(\"  \" * level + str(node.data))\n",
        "        for child in node.children:\n",
        "            print_tree(child, level + 1)\n",
        "\n",
        "def descendant_numbers(node):\n",
        "    if len(node.children) == 0:\n",
        "        nodes_dict[node.name] = 0\n",
        "        return nodes_dict, 0\n",
        "    else:\n",
        "        des_numbs = len(node.children)\n",
        "        for node_child in node.children:\n",
        "            des_numbs += descendant_numbers(node_child)[1]\n",
        "        nodes_dict[node.name] = des_numbs\n",
        "        return nodes_dict, des_numbs\n",
        "\n",
        "N = int(input())\n",
        "\n",
        "nodes_dict = {}\n",
        "for _ in range(N - 1):\n",
        "    son, parent = input().split(\" \")\n",
        "    if parent not in nodes_dict:\n",
        "        nodes_dict[parent] = Node(parent)\n",
        "    if son not in nodes_dict:\n",
        "        nodes_dict[son] = Node(son)\n",
        "    nodes_dict[parent].add_children(nodes_dict[son])\n",
        "    nodes_dict[son].add_parent(nodes_dict[parent])\n",
        "\n",
        "for key in nodes_dict:\n",
        "    if nodes_dict[key].parent == None:\n",
        "        root = nodes_dict[key]\n",
        "        break\n",
        "\n",
        "desc_dict = descendant_numbers(root)[0]\n",
        "for key in sorted(desc_dict):\n",
        "    print(f\"{key} {desc_dict[key]}\")"
      ],
      "metadata": {
        "colab": {
          "base_uri": "https://localhost:8080/"
        },
        "id": "sDRdpLB4NyB5",
        "outputId": "f5b3957f-a497-40fe-ad86-b2ec27a2f04b"
      },
      "execution_count": null,
      "outputs": [
        {
          "output_type": "stream",
          "name": "stdout",
          "text": [
            "2\n",
            "a b\n",
            "a 0\n",
            "b 1\n"
          ]
        }
      ]
    },
    {
      "cell_type": "code",
      "source": [
        "9\n",
        "Alexei Peter_I\n",
        "Anna Peter_I\n",
        "Elizabeth Peter_I\n",
        "Peter_II Alexei\n",
        "Peter_III Anna\n",
        "Paul_I Peter_III\n",
        "Alexander_I Paul_I\n",
        "Nicholaus_I Paul_I\n"
      ],
      "metadata": {
        "id": "C49TPtFpjA_h"
      },
      "execution_count": null,
      "outputs": []
    },
    {
      "cell_type": "code",
      "source": [],
      "metadata": {
        "id": "0-Jz6JQQ89mR"
      },
      "execution_count": null,
      "outputs": []
    },
    {
      "cell_type": "markdown",
      "source": [
        "# C. Родословная: LCA"
      ],
      "metadata": {
        "id": "h-Cg1dHR8-Gz"
      }
    },
    {
      "cell_type": "code",
      "source": [
        "class Node:\n",
        "    def __init__(self, name):\n",
        "        self.name = name\n",
        "        self.children = []\n",
        "        self.parent = None\n",
        "\n",
        "    def add_children(self, node):\n",
        "        self.children.append(node)\n",
        "\n",
        "    def add_parent(self, node):\n",
        "        self.parent = node\n",
        "\n",
        "def print_tree(node, level=0):\n",
        "    if node is not None:\n",
        "        print(\"  \" * level + str(node.data))\n",
        "        for child in node.children:\n",
        "            print_tree(child, level + 1)\n",
        "\n",
        "def all_parents(node):\n",
        "    mass = []\n",
        "    mass.append(node)\n",
        "    while (prnt := mass[-1].parent) != None:\n",
        "        mass.append(prnt)\n",
        "    return mass\n",
        "\n",
        "# file_in = open(\"/content/sample_data/input\", encoding=\"UTF-8\")\n",
        "file_in = open(\"input.txt\", encoding=\"UTF-8\")\n",
        "lines = file_in.readlines()\n",
        "\n",
        "# file_out = open(\"output.txt\", \"w\", encoding=\"UTF-8\")\n",
        "\n",
        "N = int(lines[0])\n",
        "nodes_dict = {}\n",
        "\n",
        "for i in range(1, N):\n",
        "    son, parent = lines[i].rstrip(\"\\n\").split(\" \")\n",
        "    if parent not in nodes_dict:\n",
        "        nodes_dict[parent] = Node(parent)\n",
        "    if son not in nodes_dict:\n",
        "        nodes_dict[son] = Node(son)\n",
        "    nodes_dict[parent].add_children(nodes_dict[son])\n",
        "    nodes_dict[son].add_parent(nodes_dict[parent])\n",
        "\n",
        "for key in nodes_dict:\n",
        "    if nodes_dict[key].parent == None:\n",
        "        root = nodes_dict[key]\n",
        "        break\n",
        "\n",
        "for i in range(N, len(lines)):\n",
        "    node_name1, node_name2 = lines[i].rstrip(\"\\n\").split(\" \")\n",
        "    mass1, mass2 = all_parents(nodes_dict[node_name1]), all_parents(nodes_dict[node_name2])\n",
        "\n",
        "    flag = False\n",
        "    for i in range(len(mass1)):\n",
        "        for j in range(len(mass2)):\n",
        "            if mass1[i].name == mass2[j].name:\n",
        "                flag = True\n",
        "                break\n",
        "        if flag:\n",
        "            break\n",
        "    print(mass1[i].name)\n",
        "    # file_out.write(mass1[i].name + \"\\n\")\n",
        "# file_out = open(\"output.txt\", \"r\", encoding=\"UTF-8\")\n",
        "# for line in file_out:\n",
        "#     print(line)\n",
        "file_in.close()"
      ],
      "metadata": {
        "colab": {
          "base_uri": "https://localhost:8080/"
        },
        "id": "nC--1bA18_nw",
        "outputId": "e9b14951-761d-443f-ea37-70279fe59da5"
      },
      "execution_count": null,
      "outputs": [
        {
          "output_type": "stream",
          "name": "stdout",
          "text": [
            "Paul_I\n",
            "Peter_I\n",
            "Anna\n"
          ]
        }
      ]
    },
    {
      "cell_type": "code",
      "source": [
        "9\n",
        "Alexei Peter_I\n",
        "Anna Peter_I\n",
        "Elizabeth Peter_I\n",
        "Peter_II Alexei\n",
        "Peter_III Anna\n",
        "Paul_I Peter_III\n",
        "Alexander_I Paul_I\n",
        "Nicholaus_I Paul_I\n",
        "Alexander_I Nicholaus_I\n",
        "Peter_II Paul_I\n",
        "Alexander_I Anna\n",
        "['Alexei Peter_I', 'Anna Peter_I', 'Elizabeth Peter_I', 'Peter_II Alexei', 'Peter_III Anna', 'Paul_I Peter_III', 'Alexander_I Paul_I', 'Nicholaus_I Paul_I']"
      ],
      "metadata": {
        "id": "x9c9iHrsChdU"
      },
      "execution_count": null,
      "outputs": []
    },
    {
      "cell_type": "code",
      "source": [],
      "metadata": {
        "id": "ihw21ASrXYwb"
      },
      "execution_count": null,
      "outputs": []
    },
    {
      "cell_type": "markdown",
      "source": [
        "# D. Бинарное дерево (вставка, поиск, обход) Wrong answer"
      ],
      "metadata": {
        "id": "3QFX-9R--qYB"
      }
    },
    {
      "cell_type": "code",
      "source": [],
      "metadata": {
        "id": "hx1T66F0etns"
      },
      "execution_count": null,
      "outputs": []
    },
    {
      "cell_type": "code",
      "source": [
        "import sys\n",
        "\n",
        "sys.setrecursionlimit(100000)\n",
        "\n",
        "class Node:\n",
        "    def __init__(self, key):\n",
        "        self.key = key\n",
        "        self.left = None\n",
        "        self.right = None\n",
        "        self.p = None\n",
        "\n",
        "def tree_walk(node, level=0):\n",
        "    if node is not None:\n",
        "        tree_walk(node.left, level + 1)\n",
        "        print(\".\" * level + node.key)\n",
        "        tree_walk(node.right, level + 1)\n",
        "\n",
        "def node_search(node, x):\n",
        "    if node == None or node.key == x:\n",
        "        return node\n",
        "    elif x < node.key:\n",
        "        return node_search(node.left, x)\n",
        "    else:\n",
        "        return node_search(node.right, x)\n",
        "\n",
        "# def node_insert(node, x):\n",
        "#     node_x = Node(x)\n",
        "#     if node == None:\n",
        "#         return nodex\n",
        "#     y = node\n",
        "#     while y != None:\n",
        "#         z = y\n",
        "#         print(z.key, x)\n",
        "#         if x < y.key:\n",
        "#             y = y.left\n",
        "#             print(\"left\", y.left.key)\n",
        "#         else:\n",
        "#             y = y.right\n",
        "#             print(\"right\", y.right.key)\n",
        "#     node_x.p = z\n",
        "#     if x < z.key:\n",
        "#         z.left = node_x\n",
        "#     else:\n",
        "#         z.right = node_x\n",
        "\n",
        "def node_insert(node, z):\n",
        "    y = None\n",
        "    x = node\n",
        "    while x != None:\n",
        "        y = x\n",
        "        print(x.key)\n",
        "        if z.key < x.key:\n",
        "            x = x.left\n",
        "        else:\n",
        "            x = x.right\n",
        "    z.p = y\n",
        "    if y == None:\n",
        "        return z\n",
        "    elif z.key < y.key:\n",
        "        y.left = z\n",
        "    else:\n",
        "        y.right = z\n",
        "\n",
        "\n",
        "\n",
        "file_in = open(\"input.txt\", encoding=\"UTF-8\")\n",
        "lines = file_in.readlines()\n",
        "\n",
        "root = None\n",
        "\n",
        "for i in range(len(lines)):\n",
        "    stroka = lines[i].rstrip(\"\\n\")\n",
        "    if \" \" in stroka:\n",
        "        special_word, value = stroka.split(\" \")\n",
        "    else:\n",
        "        special_word = stroka\n",
        "\n",
        "    if special_word == \"ADD\":\n",
        "        if root == None:\n",
        "            root = Node(value)\n",
        "            print(\"DONE\")\n",
        "        else:\n",
        "            if node_search(root, value) == None:\n",
        "                node_insert(root, Node(value))\n",
        "                print(\"DONE\")\n",
        "            else:\n",
        "                print(\"ALREADY\")\n",
        "    elif special_word == \"SEARCH\":\n",
        "        if node_search(root, value) == None:\n",
        "            print(\"NO\")\n",
        "        else:\n",
        "            print(\"YES\")\n",
        "    else:\n",
        "        tree_walk(root)\n",
        "\n",
        "file_in.close()"
      ],
      "metadata": {
        "colab": {
          "base_uri": "https://localhost:8080/"
        },
        "outputId": "721d9390-96ec-447e-b4c8-88af0516cad6",
        "id": "idqA451Xet5H"
      },
      "execution_count": null,
      "outputs": [
        {
          "output_type": "stream",
          "name": "stdout",
          "text": [
            "DONE\n",
            "10\n",
            "DONE\n",
            "10\n",
            "DONE\n",
            "10\n",
            "3\n",
            "DONE\n",
            "10\n",
            "3\n",
            "5\n",
            "DONE\n",
            ".1\n",
            "10\n",
            ".3\n",
            "..5\n",
            "...55\n"
          ]
        }
      ]
    },
    {
      "cell_type": "markdown",
      "source": [],
      "metadata": {
        "id": "BtW26Mn20lON"
      }
    },
    {
      "cell_type": "code",
      "source": [
        "ADD 2\n",
        "ADD 3\n",
        "ADD 2\n",
        "SEARCH 2\n",
        "ADD 5\n",
        "PRINTTREE\n",
        "SEARCH 7\n",
        "\n",
        "DONE\n",
        "DONE\n",
        "ALREADY\n",
        "YES\n",
        "DONE\n",
        "2\n",
        ".3\n",
        "..5\n",
        "NO\n"
      ],
      "metadata": {
        "id": "PA6KlTaQ-sEA"
      },
      "execution_count": null,
      "outputs": []
    },
    {
      "cell_type": "code",
      "source": [
        "a, b = input().split(\" \")"
      ],
      "metadata": {
        "colab": {
          "base_uri": "https://localhost:8080/",
          "height": 158
        },
        "id": "RA2R9ohlrbSZ",
        "outputId": "d72cf05f-6f45-46c2-cccf-95cd4a8c4d32"
      },
      "execution_count": null,
      "outputs": [
        {
          "name": "stdout",
          "output_type": "stream",
          "text": [
            "1\n"
          ]
        },
        {
          "output_type": "error",
          "ename": "ValueError",
          "evalue": "not enough values to unpack (expected 2, got 1)",
          "traceback": [
            "\u001b[0;31m---------------------------------------------------------------------------\u001b[0m",
            "\u001b[0;31mValueError\u001b[0m                                Traceback (most recent call last)",
            "\u001b[0;32m<ipython-input-1-6cc68f88cf4c>\u001b[0m in \u001b[0;36m<cell line: 1>\u001b[0;34m()\u001b[0m\n\u001b[0;32m----> 1\u001b[0;31m \u001b[0ma\u001b[0m\u001b[0;34m,\u001b[0m \u001b[0mb\u001b[0m \u001b[0;34m=\u001b[0m \u001b[0minput\u001b[0m\u001b[0;34m(\u001b[0m\u001b[0;34m)\u001b[0m\u001b[0;34m.\u001b[0m\u001b[0msplit\u001b[0m\u001b[0;34m(\u001b[0m\u001b[0;34m\" \"\u001b[0m\u001b[0;34m)\u001b[0m\u001b[0;34m\u001b[0m\u001b[0;34m\u001b[0m\u001b[0m\n\u001b[0m",
            "\u001b[0;31mValueError\u001b[0m: not enough values to unpack (expected 2, got 1)"
          ]
        }
      ]
    },
    {
      "cell_type": "code",
      "source": [],
      "metadata": {
        "id": "FWvTeRsPreZ_"
      },
      "execution_count": null,
      "outputs": []
    }
  ]
}